{
 "cells": [
  {
   "cell_type": "markdown",
   "metadata": {},
   "source": [
    "# Домашняя работа №1 (Курс \"Advanced Python\")\n",
    "## ФИО: Волков Сергей Андреевич"
   ]
  },
  {
   "cell_type": "markdown",
   "metadata": {},
   "source": [
    "**Тема:** Повторение  \n",
    "**Выдана:**  02.09  \n",
    "**Мягкий дедлайн:** 09.09  \n",
    "**Жесткий дедлайн:** 16.09  "
   ]
  },
  {
   "cell_type": "markdown",
   "metadata": {},
   "source": [
    "**Правила:**\n",
    "Результат выполнения задания - отчет в формате Jupyter Notebook с кодом и выводами. В ходе выполнения задания требуется реализовать все необходимые алгоритмы, провести эксперименты и ответить на поставленные вопросы. Дополнительные выводы приветствуются. Чем меньше кода и больше комментариев - тем лучше.\n",
    "\n",
    "Все ячейки должны быть \"выполненными\", при этом результат должен воспроизводиться при проверке.\n",
    "\n",
    "Задание выполняется самостоятельно. Если вы нашли в Интернете какой-то код, который собираетесь заимствовать, обязательно укажите это в задании. Если вы советовались с товарищем и/или позаимствовали его решение, обязательно укажите об этом в отчете. Нет ничего плохого в том, что вы пытаетесь разобраться и помогаете друг другу; плохо - когда вы скрываете это и выдаете чужие заслуги за свои. При обнаружении списывания ВСЕМ студентам, имеющим одинаковые списанные решения будет выставлен ОТРИЦАТЕЛЬНЫЙ балл (т.е если задача стоит 4 балла, вы получите не 0, а -4), \"оригинал\" искаться не будет\n",
    "\n",
    "Задание, сданное после жесткого дедлайна, не принимается."
   ]
  },
  {
   "cell_type": "markdown",
   "metadata": {},
   "source": [
    "## Введение\n",
    "Эта лабораторная работа несет скорее ознакомительный характер. Никаких сложных заданий в ней не будет, ее целью стоит ваше знакомство с форматом домашних заданий, а также вспоминание синтаксиса Python."
   ]
  },
  {
   "cell_type": "markdown",
   "metadata": {},
   "source": [
    "### Задача 1 (10 баллов)\n",
    "Создайте список rand_nums (При помощи List comprehensions) и запишите в него 2800 случайных чисел от -5 до 25. Для генерации случайного числа воспользуйтесь функцией randint"
   ]
  },
  {
   "cell_type": "code",
   "execution_count": 158,
   "metadata": {},
   "outputs": [],
   "source": [
    "from random import randint, seed\n",
    "seed(666)\n",
    "# ваш код здесь\n",
    "rand_nums = [randint(-5, 25) for _ in range(2800)]"
   ]
  },
  {
   "cell_type": "markdown",
   "metadata": {},
   "source": [
    "Подсчитайте количество отрицательных чисел в полученном списке в одну строку кода  **(1 балл)**"
   ]
  },
  {
   "cell_type": "code",
   "execution_count": 159,
   "metadata": {},
   "outputs": [
    {
     "name": "stdout",
     "output_type": "stream",
     "text": [
      "426\n"
     ]
    }
   ],
   "source": [
    "# ваш код здесь\n",
    "print(len([x for x in rand_nums if x < 0]))"
   ]
  },
  {
   "cell_type": "markdown",
   "metadata": {},
   "source": [
    "Преобразуйте ваш список (или создайте новый) следующим образом: вместо числа i получите соответствующую букву из английского алфавита. Учтите, что нумерация начинается с 0. Т.е 0 соответствует 'a', 25 - 'z', 3 - \"d\" **(1 балл)**"
   ]
  },
  {
   "cell_type": "code",
   "execution_count": 160,
   "metadata": {},
   "outputs": [],
   "source": [
    "#ваш код здесь\n",
    "# + ord('a'), т.к. 0 не соответствует 'a' в юникоде\n",
    "rand_letters = [chr(x + ord('a')) for x in rand_nums if x >= 0]"
   ]
  },
  {
   "cell_type": "markdown",
   "metadata": {},
   "source": [
    "Создайте файл strange_rna.txt и запишите в него ТОЛЬКО СОГЛАСНЫЕ буквы вашего списка в том же порядке, например  \n",
    "```python\n",
    "[\"i\",\"t\",\"s\",\"e\",\"x\",\"a\",\"m\",\"p\",\"l\",\"e\"] -> \"tsxmpl\"\n",
    "```\n",
    "Используйте строковый метод join **(1 балл)**"
   ]
  },
  {
   "cell_type": "code",
   "execution_count": 161,
   "metadata": {},
   "outputs": [],
   "source": [
    "#ваш код здесь\n",
    "vowels = ['a', 'e', 'i', 'o', 'u']  # в английском языке всего 5 гласных букв\n",
    "with open('strange_rna.txt', 'w') as data:\n",
    "    data.writelines(''.join([symbol for symbol in rand_letters if symbol not in vowels]))"
   ]
  },
  {
   "cell_type": "markdown",
   "metadata": {},
   "source": [
    "А теперь минутка смысла. Или безумия. Безумного смысла. Я не биолог, так что строго не судите. Задание несет ценность с точки зрения программирования, а не биологии ;)  \n",
    "Вам поступила ценнейшая информация: фрагмент РНК из существа с другой планеты. У них используется не 4, как у нас, а целое 21 нуклеиновое основание, поэтому для их кодирования стали использовать латинские согласные буквы"
   ]
  },
  {
   "cell_type": "markdown",
   "metadata": {},
   "source": [
    "Считайте содержимое файла strange_rna.txt в строку strange_rna (именно из только что созданного файла, а не из списка!)"
   ]
  },
  {
   "cell_type": "code",
   "execution_count": 162,
   "metadata": {},
   "outputs": [],
   "source": [
    "#ваш код здесь\n",
    "with open('strange_rna.txt', 'r') as data:\n",
    "    strange_rna = data.readline().strip()"
   ]
  },
  {
   "cell_type": "markdown",
   "metadata": {},
   "source": [
    "Напишите функцию, которая для двух аргументов - строки РНА и строки-триплета будет возвращать количество вхождений триплета в РНК. (например для РНК \"bccbcbcb\" количество вхождений триплета \"cbc\" равно 2ум) **(2 балла)**"
   ]
  },
  {
   "cell_type": "code",
   "execution_count": 163,
   "metadata": {},
   "outputs": [],
   "source": [
    "def num_triplets(rna, triplet):\n",
    "    #ваш код здесь\n",
    "    counter = 0\n",
    "    for i in range(len(rna) - 2):  # длина текста - 3 (длина триплета) + 1\n",
    "        if rna[i: i + 3] == triplet:\n",
    "            counter += 1\n",
    "    return counter"
   ]
  },
  {
   "cell_type": "markdown",
   "metadata": {},
   "source": [
    "Создайте словарь \"интересных\" триплетов triplets: для каждого триплета внесите в словарь его значение-свойство  \n",
    "Триплеты с \"интересными\" свойствами:\n",
    "\"wnd\" - восхитительность, \"str\" - странность, \"btf\" - красивость (не путать с восхитительностью!), \"plt\" - вежливость, \"fnn\" - веселость, \"phd\" - умность, \"gvr\" - государственность "
   ]
  },
  {
   "cell_type": "code",
   "execution_count": 164,
   "metadata": {},
   "outputs": [],
   "source": [
    "triplets = {\n",
    "    \"wnd\" : 'восхитительность',\n",
    "    \"str\" : 'странность',\n",
    "    \"btf\" : 'красивость', \n",
    "    \"plt\" : 'вежливость', \n",
    "    \"fnn\" : 'веселость', \n",
    "    \"phd\" : 'умность', \n",
    "    \"gvr\" : 'государственность'\n",
    "}  #ваш код здесь"
   ]
  },
  {
   "cell_type": "markdown",
   "metadata": {},
   "source": [
    "Подсчитайте вхождения интересных триплетов в данный участок РНА. \n",
    "Создайте функцию, которая будет создавать файл отчета results.txt: для каждого описания триплета подпишите через двоеточие риск возникновения такого свойства в белке. Если вхождений триплета в участок нет, то вероятность равна 0.05, если вхождение одно - то 0.2, если два и более, то 0.6. Последней строкой добавляется строка вывода: \"Повышенный риск мутаций в участке у свойств:\" а далее через запятую перечисляются свойства с риском возникновения 0.1 и более  \n",
    "Например для rna=\"wnnwndphdppphhphd\" отчетом будет  \n",
    "\"\n",
    "восхитительность:0.2  \n",
    "странность:0.05  \n",
    "красивость:0.05  \n",
    "вежливость:0.05  \n",
    "веселость:0.05  \n",
    "умность:0.6  \n",
    "государственность:0.05  \n",
    "Повышенный риск мутаций в участке у свойств:умность\n",
    "\"  \n",
    "**(2 балла)**"
   ]
  },
  {
   "cell_type": "code",
   "execution_count": 165,
   "metadata": {},
   "outputs": [],
   "source": [
    "def make_result(rna, triplets, warn_lvl=0.5, file_name=\"results.txt\"):\n",
    "    #ваш код здесь\n",
    "    with open(file_name, 'w') as data:\n",
    "        last_string = 'Повышенный риск мутаций в участке у свойств:'\n",
    "        flag = False\n",
    "        for triplet in triplets:\n",
    "            prob = 0.05\n",
    "            entries = num_triplets(rna, triplet)\n",
    "            if entries == 1:\n",
    "                prob = 0.2\n",
    "            elif entries >= 2:\n",
    "                prob = 0.6\n",
    "            if float(prob) > warn_lvl:\n",
    "                flag = True\n",
    "                last_string += triplets[triplet] + ', '\n",
    "            data.writelines(triplets[triplet] + ':' + str(prob) + '\\n')\n",
    "        # немного тупой кусочек кода =) обрезаем последние символы ' ,', если они есть\n",
    "        last_string = last_string[:-2] if flag else last_string  \n",
    "        data.writelines(last_string)  "
   ]
  },
  {
   "cell_type": "code",
   "execution_count": 166,
   "metadata": {},
   "outputs": [],
   "source": [
    "make_result(strange_rna, triplets)"
   ]
  },
  {
   "cell_type": "markdown",
   "metadata": {},
   "source": [
    "    Вернулась очередная экспедиция и доставила вам ДЕСЯТЬ ТЫСЯЧ исследовательских участков РНА! Теперь вы хотите узнать, какие свойства встречаются в белках чаще всего!"
   ]
  },
  {
   "cell_type": "markdown",
   "metadata": {},
   "source": [
    "В цикле до десяи тысяч создавайте новые strange_rna как вы делали раньше (генерация чисел, отбрасывание отрицательных, конвертация в буквы, склейка (в файл не записывайте)). Для каждого нового РНА подсчитайте количество вхождений в него каждой из интересной триплеты. Для каждой триплеты посчитайте общее количество ее вхождений во все участки РНА. Для каждой триплеты выведите вероятнось вхождения в популяцию(поделите предыдущее значение на 10000). Выведите свойства и соответствующие им вероятности в порядке убывания. Как вы думаете, можно ли сказать, что в популяции какое-то свойство проявляется особенно часто?\n",
    "**(2 балла)**"
   ]
  },
  {
   "cell_type": "code",
   "execution_count": 184,
   "metadata": {},
   "outputs": [],
   "source": [
    "#ваш код\n",
    "def create_strange_rna():\n",
    "    rand_nums = [randint(-5, 25) for _ in range(2800)]\n",
    "    rand_letters = [chr(x + ord('a')) for x in rand_nums if x >= 0]\n",
    "    vowels = ['a', 'e', 'i', 'o', 'u']\n",
    "    return ''.join([symbol for symbol in rand_letters if symbol not in vowels])\n",
    "\n",
    "\n",
    "def calculate_probs(triplets, N):\n",
    "    probs = {triplet: 0. for triplet in triplets}\n",
    "    for _ in range(N):\n",
    "        strange_rna = create_strange_rna()\n",
    "        for triplet in triplets:\n",
    "            probs[triplet] += num_triplets(strange_rna, triplet)\n",
    "    print('Вероятности триплет:')\n",
    "    for triplet in triplets:\n",
    "        probs[triplet] /= N\n",
    "        print(triplet + ':' + str(probs[triplet]))\n",
    "    print()\n",
    "    # StackOverflow https://stackoverflow.com/questions/613183/how-do-i-sort-a-dictionary-by-value\n",
    "    sorted_probs = {triplet: prob for triplet, prob in sorted(probs.items(), key=lambda item: item[1], reverse=True)}\n",
    "    print('Вероятности свойств:')\n",
    "    for triplet in sorted_probs:\n",
    "        print(triplets[triplet] + ':' + str(sorted_probs[triplet]))"
   ]
  },
  {
   "cell_type": "code",
   "execution_count": 186,
   "metadata": {},
   "outputs": [
    {
     "name": "stdout",
     "output_type": "stream",
     "text": [
      "Вероятности триплет:\n",
      "wnd:0.2005\n",
      "str:0.1998\n",
      "btf:0.2069\n",
      "plt:0.2103\n",
      "fnn:0.2073\n",
      "phd:0.1995\n",
      "gvr:0.2061\n",
      "\n",
      "Вероятности свойств:\n",
      "вежливость:0.2103\n",
      "веселость:0.2073\n",
      "красивость:0.2069\n",
      "государственность:0.2061\n",
      "восхитительность:0.2005\n",
      "странность:0.1998\n",
      "умность:0.1995\n"
     ]
    }
   ],
   "source": [
    "calculate_probs(triplets, 10000)"
   ]
  },
  {
   "cell_type": "markdown",
   "metadata": {},
   "source": [
    "Ваши выводы"
   ]
  },
  {
   "cell_type": "markdown",
   "metadata": {},
   "source": [
    "*Ни одно из свойств не проявляется как-то особенно ярко. Это согласуется с тем, что мы генерируем случайные строки. (понятно, что в этом случае при довольно большой выборке [10000] все триплеты будут встречаться с примерно одинаковой вероятностью, т.к. каждый из 21 символов с одинаковой вероятностью может стоять на каждом из 3 мест в триплете)*"
   ]
  },
  {
   "cell_type": "markdown",
   "metadata": {},
   "source": [
    "**Если все задание выполнено правильно, то еще +1 балл**"
   ]
  }
 ],
 "metadata": {
  "kernelspec": {
   "display_name": "Python 3",
   "language": "python",
   "name": "python3"
  },
  "language_info": {
   "codemirror_mode": {
    "name": "ipython",
    "version": 3
   },
   "file_extension": ".py",
   "mimetype": "text/x-python",
   "name": "python",
   "nbconvert_exporter": "python",
   "pygments_lexer": "ipython3",
   "version": "3.8.2"
  }
 },
 "nbformat": 4,
 "nbformat_minor": 2
}
